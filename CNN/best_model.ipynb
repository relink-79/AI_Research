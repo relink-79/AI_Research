{
 "cells": [
  {
   "cell_type": "code",
   "execution_count": 1,
   "id": "24679027-7518-48e6-8189-b66c6f6590dd",
   "metadata": {},
   "outputs": [
    {
     "name": "stdout",
     "output_type": "stream",
     "text": [
      "INFO:tensorflow:Mixed precision compatibility check (mixed_float16): OK\n",
      "Your GPU will likely run quickly with dtype policy mixed_float16 as it has compute capability of at least 7.0. Your GPU: NVIDIA GeForce RTX 2060, compute capability 7.5\n"
     ]
    }
   ],
   "source": [
    "import tensorflow as tf\n",
    "from tensorflow.keras.preprocessing import image_dataset_from_directory\n",
    "from tensorflow.keras.applications import EfficientNetV2L, ResNet152V2\n",
    "from tensorflow.keras.models import Model as model\n",
    "from tensorflow.keras.layers import Concatenate, GlobalAveragePooling2D, Dense, Dropout\n",
    "from tensorflow.keras.callbacks import EarlyStopping, ModelCheckpoint\n",
    "import matplotlib.pyplot as plt\n",
    "import numpy as np\n",
    "\n",
    "tf.config.threading.set_intra_op_parallelism_threads(4)\n",
    "tf.config.threading.set_inter_op_parallelism_threads(4)\n",
    "\n",
    "tf.keras.mixed_precision.set_global_policy('mixed_float16')"
   ]
  },
  {
   "cell_type": "code",
   "execution_count": 2,
   "id": "4c9984ea-bdfa-4d10-8a0a-ab8e38f74be3",
   "metadata": {},
   "outputs": [],
   "source": [
    "\n",
    "def EfficientNet():\n",
    "    Gibon = EfficientNetV2L(weights='imagenet', include_top=False, input_shape=(224, 224, 3))\n",
    "    Gibon.trainable = True\n",
    "    x = Gibon.output\n",
    "    x = GlobalAveragePooling2D()(x)\n",
    "    x = Dropout(0.3)(x)\n",
    "    x = Dense(256, activation='relu')(x)\n",
    "    return model(inputs=Gibon.input, outputs=x)\n",
    "\n",
    "def ResNet():\n",
    "    Gibon = ResNet152V2(weights='imagenet', include_top=False, input_shape=(224, 224, 3))\n",
    "    Gibon.trainable = True\n",
    "    x = Gibon.output\n",
    "    x = GlobalAveragePooling2D()(x)\n",
    "    x = Dropout(0.3)(x)\n",
    "    x = Dense(256, activation='relu')(x)\n",
    "    return model(inputs=Gibon.input, outputs=x)\n",
    "\n",
    "def FinalModel():\n",
    "    EF = EfficientNet()\n",
    "    RN = ResNet()\n",
    "\n",
    "    Hapchingu = Concatenate()([EF.output, RN.output])\n",
    "    x = Dense(256, activation='relu')(Hapchingu)\n",
    "    x = Dropout(0.3)(x)\n",
    "    x = Dense(3, activation='softmax', dtype='float32')(x)\n",
    "\n",
    "    Hapchingu1 = model(inputs=[EF.input, RN.input], outputs=x)\n",
    "    return Hapchingu1\n",
    "\n",
    "def Loading(train_dir, test_dir):\n",
    "    train_data = image_dataset_from_directory(\n",
    "        train_dir,\n",
    "        validation_split=0.2,\n",
    "        subset='training',\n",
    "        seed=123,\n",
    "        image_size=(224, 224),\n",
    "        batch_size=8)\n",
    "\n",
    "    val_data = image_dataset_from_directory(\n",
    "        train_dir,\n",
    "        validation_split=0.2,\n",
    "        subset='validation',\n",
    "        seed=123,\n",
    "        image_size=(224, 224),\n",
    "        batch_size=8)\n",
    "\n",
    "    test_data = image_dataset_from_directory(\n",
    "        test_dir,\n",
    "        image_size=(224, 224),\n",
    "        batch_size=8,\n",
    "        shuffle=False)\n",
    "\n",
    "    return train_data, val_data, test_data\n",
    "\n",
    "def augment(image, label):\n",
    "    image = tf.image.random_contrast(image, lower=0.9031330915128971, upper=1.0478198204494218)\n",
    "    return image, label\n",
    "\n",
    "def prepare_inputs(dataset):\n",
    "    dataset = dataset.map(lambda x, y: ((x, x), y), num_parallel_calls=tf.data.AUTOTUNE)\n",
    "    return dataset\n",
    "\n",
    "def plot_history(history):\n",
    "    plt.plot(history.history['loss'], label='train_loss')\n",
    "    plt.plot(history.history['val_loss'], label='val_loss')\n",
    "    plt.plot(history.history['accuracy'], label='train_accuracy')\n",
    "    plt.plot(history.history['val_accuracy'], label='val_accuracy')\n",
    "    plt.xlabel('Epochs')\n",
    "    plt.ylabel('Loss/Accuracy')\n",
    "    plt.legend()\n",
    "    plt.show()\n"
   ]
  },
  {
   "cell_type": "code",
   "execution_count": 3,
   "id": "51806727-e269-4faa-9f7f-e9b79d296afa",
   "metadata": {},
   "outputs": [
    {
     "name": "stdout",
     "output_type": "stream",
     "text": [
      "Found 1950 files belonging to 3 classes.\n",
      "Using 1560 files for training.\n",
      "Found 1950 files belonging to 3 classes.\n",
      "Using 390 files for validation.\n",
      "Found 270 files belonging to 3 classes.\n",
      "Epoch 1/3\n",
      "195/195 [==============================] - 307s 970ms/step - loss: 0.5025 - accuracy: 0.8045 - val_loss: 0.1287 - val_accuracy: 0.9744\n",
      "Epoch 2/3\n",
      "195/195 [==============================] - 176s 904ms/step - loss: 0.0624 - accuracy: 0.9865 - val_loss: 0.0494 - val_accuracy: 0.9872\n",
      "Epoch 3/3\n",
      "195/195 [==============================] - 176s 904ms/step - loss: 0.0353 - accuracy: 0.9910 - val_loss: 0.0334 - val_accuracy: 0.9897\n",
      "34/34 [==============================] - 7s 189ms/step - loss: 0.0173 - accuracy: 1.0000\n",
      "Test Accuracy: 1.0\n",
      "Test Loss 0.017264600843191147\n"
     ]
    }
   ],
   "source": [
    "train_path = 'C:/Users/jhh33/Desktop/train'\n",
    "test_path = 'C:/Users/jhh33/Desktop/test'\n",
    "jujang_path = 'C:/Users/jhh33/Desktop/untitled6.keras'\n",
    "\n",
    "random_seed = 0\n",
    "tf.random.set_seed(random_seed)\n",
    "np.random.seed(random_seed)\n",
    "\n",
    "train_ds, val_ds, test_ds = Loading(train_path, test_path)\n",
    "\n",
    "train_ds = train_ds.map(augment, num_parallel_calls=tf.data.AUTOTUNE)\n",
    "train_ds = train_ds.cache().shuffle(buffer_size=1000).prefetch(buffer_size=tf.data.AUTOTUNE)\n",
    "val_ds = val_ds.cache().prefetch(buffer_size=tf.data.AUTOTUNE)\n",
    "test_ds = test_ds.cache().prefetch(buffer_size=tf.data.AUTOTUNE)\n",
    "\n",
    "train_ds = prepare_inputs(train_ds)\n",
    "val_ds = prepare_inputs(val_ds)\n",
    "test_ds = prepare_inputs(test_ds)\n",
    "\n",
    "Hapchingu1 = FinalModel()\n",
    "Hapchingu1.compile(optimizer=tf.keras.optimizers.Adam(learning_rate=3.125524609928448e-05), \n",
    "                   loss='sparse_categorical_crossentropy', \n",
    "                   metrics=['accuracy'])\n",
    "\n",
    "early_stopping = EarlyStopping(monitor='val_loss', patience=1, restore_best_weights=True)\n",
    "model_checkpoint = ModelCheckpoint(jujang_path, save_best_only=True, save_weights_only=False)\n",
    "\n",
    "history = Hapchingu1.fit(\n",
    "    train_ds,\n",
    "    validation_data=val_ds,\n",
    "    epochs=3,\n",
    "    callbacks=[early_stopping, model_checkpoint]\n",
    ")\n",
    "\n",
    "test_loss, test_accuracy = Hapchingu1.evaluate(test_ds)\n",
    "print(\"Test Accuracy:\", test_accuracy)\n",
    "print(\"Test Loss\",test_loss)"
   ]
  },
  {
   "cell_type": "code",
   "execution_count": 4,
   "id": "58715730-9e2c-481b-9e35-c395345e1def",
   "metadata": {},
   "outputs": [
    {
     "data": {
      "image/png": "[encoded data removed]",
      "text/plain": [
       "<Figure size 640x480 with 1 Axes>"
      ]
     },
     "metadata": {},
     "output_type": "display_data"
    }
   ],
   "source": [
    "plot_history(history)"
   ]
  },
  {
   "cell_type": "code",
   "execution_count": null,
   "id": "7b7b59d6-b6a2-456f-ae91-569cd919f533",
   "metadata": {},
   "outputs": [],
   "source": []
  }
 ],
 "metadata": {
  "kernelspec": {
   "display_name": "Python (tf_env)",
   "language": "python",
   "name": "tf_env"
  },
  "language_info": {
   "codemirror_mode": {
    "name": "ipython",
    "version": 3
   },
   "file_extension": ".py",
   "mimetype": "text/x-python",
   "name": "python",
   "nbconvert_exporter": "python",
   "pygments_lexer": "ipython3",
   "version": "3.9.19"
  }
 },
 "nbformat": 4,
 "nbformat_minor": 5
}
